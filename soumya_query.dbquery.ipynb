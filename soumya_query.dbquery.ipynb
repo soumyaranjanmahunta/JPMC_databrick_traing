{
 "cells": [
  {
   "cell_type": "code",
   "execution_count": 0,
   "metadata": {
    "application/vnd.databricks.v1+cell": {
     "cellMetadata": {
      "byteLimit": 10485760,
      "rowLimit": 1000
     },
     "inputWidgets": {},
     "nuid": "0383233c-6277-47c5-b7f7-2791cc755c99",
     "showTitle": false,
     "tableResultSettingsMap": {},
     "title": ""
    }
   },
   "outputs": [
    {
     "output_type": "display_data",
     "data": {
      "text/plain": [
       "Databricks visualization. Run in Databricks to view."
      ]
     },
     "metadata": {
      "application/vnd.databricks.v1.subcommand+json": {
       "baseErrorDetails": null,
       "bindings": {},
       "collapsed": false,
       "command": "%sql WITH q AS (SELECT \n    f.name AS franchise_name,\n    f.city,\n    f.country,\n    SUM(t.totalPrice) AS total_sales,\n    COUNT(t.transactionID) AS number_of_transactions\nFROM \n    samples.bakehouse.sales_franchises f\nJOIN \n    samples.bakehouse.sales_transactions t\nON \n    f.franchiseID = t.franchiseID\nGROUP BY \n    f.name, f.city, f.country\nORDER BY \n    total_sales DESC) SELECT `franchise_name` FROM q GROUP BY `franchise_name`",
       "commandTitle": "Visualization 1",
       "commandType": "auto",
       "commandVersion": 0,
       "commentThread": [],
       "commentsVisible": false,
       "contentSha256Hex": null,
       "customPlotOptions": {
        "redashChart": [
         {
          "key": "type",
          "value": "CHART"
         },
         {
          "key": "options",
          "value": {
           "alignYAxesAtZero": true,
           "coefficient": 1,
           "columnConfigurationMap": {
            "series": {
             "column": "franchise_name",
             "id": "column_ee536c9c278"
            },
            "y": []
           },
           "dateTimeFormat": "DD/MM/YYYY HH:mm",
           "direction": {
            "type": "counterclockwise"
           },
           "error_y": {
            "type": "data",
            "visible": true
           },
           "globalSeriesType": "pie",
           "legend": {
            "traceorder": "normal"
           },
           "missingValuesAsZero": true,
           "numberFormat": "0,0.[00000]",
           "percentFormat": "0[.]00%",
           "series": {
            "error_y": {
             "type": "data",
             "visible": true
            },
            "stacking": null
           },
           "seriesOptions": {},
           "showDataLabels": true,
           "sizemode": "diameter",
           "sortX": true,
           "sortY": true,
           "swappedAxes": false,
           "textFormat": "",
           "useAggregationsUi": true,
           "valuesOptions": {},
           "version": 2,
           "xAxis": {
            "labels": {
             "enabled": true
            },
            "type": "-"
           },
           "yAxis": [
            {
             "type": "-"
            },
            {
             "opposite": true,
             "type": "-"
            }
           ]
          }
         }
        ]
       },
       "datasetPreviewNameToCmdIdMap": {},
       "diffDeletes": [],
       "diffInserts": [],
       "displayType": "redashChart",
       "error": null,
       "errorDetails": null,
       "errorSummary": null,
       "errorTraceType": null,
       "finishTime": 0,
       "globalVars": {},
       "guid": "",
       "height": "auto",
       "hideCommandCode": false,
       "hideCommandResult": false,
       "iPythonMetadata": null,
       "inputWidgets": {},
       "isLockedInExamMode": false,
       "latestAssumeRoleInfo": null,
       "latestUser": "a user",
       "latestUserId": null,
       "listResultMetadata": null,
       "metadata": {},
       "nuid": "1fd4e605-7514-454d-b2f2-68c721fb21e1",
       "origId": 0,
       "parentHierarchy": [],
       "pivotAggregation": null,
       "pivotColumns": null,
       "position": 2.0,
       "resultDbfsErrorMessage": null,
       "resultDbfsStatus": "INLINED_IN_TREE",
       "results": null,
       "showCommandTitle": false,
       "startTime": 0,
       "state": "input",
       "streamStates": {},
       "subcommandOptions": {
        "queryPlan": {
         "groups": [
          {
           "column": "franchise_name",
           "type": "column"
          }
         ],
         "selects": [
          {
           "column": "franchise_name",
           "type": "column"
          }
         ]
        }
       },
       "submitTime": 0,
       "subtype": "tableResultSubCmd.visualization",
       "tableResultIndex": 2,
       "tableResultSettingsMap": {},
       "useConsistentColors": false,
       "version": "CommandV1",
       "width": "auto",
       "workflows": null,
       "xColumns": null,
       "yColumns": null
      }
     },
     "output_type": "display_data"
    }
   ],
   "source": [
    "select * from dev.srm_silver.sales_cleaned where customer_id=:cust_id;\n",
    "\n",
    "\n",
    "\n",
    "\n",
    "SELECT product_id, SUM(quantity) AS total_quantity\n",
    "FROM dev.srm_silver.sales_cleaned\n",
    "GROUP BY product_id\n",
    "ORDER BY total_quantity DESC\n",
    "LIMIT 3;\n",
    "\n",
    "\n",
    "SELECT \n",
    "    f.name AS franchise_name,\n",
    "    f.city,\n",
    "    f.country,\n",
    "    SUM(t.totalPrice) AS total_sales,\n",
    "    COUNT(t.transactionID) AS number_of_transactions\n",
    "FROM \n",
    "    samples.bakehouse.sales_franchises f\n",
    "JOIN \n",
    "    samples.bakehouse.sales_transactions t\n",
    "ON \n",
    "    f.franchiseID = t.franchiseID\n",
    "GROUP BY \n",
    "    f.name, f.city, f.country\n",
    "ORDER BY \n",
    "    total_sales DESC;"
   ]
  }
 ],
 "metadata": {
  "application/vnd.databricks.v1+notebook": {
   "computePreferences": null,
   "dashboards": [],
   "environmentMetadata": null,
   "inputWidgetPreferences": null,
   "language": "sql",
   "notebookMetadata": {
    "pythonIndentUnit": 4,
    "sqlQueryOptions": {
     "applyAutoLimit": true,
     "catalog": "dev",
     "schema": "naval_bronze"
    }
   },
   "notebookName": "soumya_query.dbquery.ipynb",
   "widgets": {
    "cust_id": {
     "currentValue": "1",
     "nuid": "d09e9ef7-4d9b-41a4-b7e5-97b29369cce0",
     "typedWidgetInfo": {
      "autoCreated": false,
      "defaultValue": "",
      "label": "cust_id",
      "name": "cust_id",
      "options": {
       "widgetDisplayType": "Text",
       "validationRegex": null
      },
      "parameterDataType": "String"
     },
     "widgetInfo": {
      "widgetType": "text",
      "defaultValue": "",
      "label": "cust_id",
      "name": "cust_id",
      "options": {
       "widgetType": "text",
       "autoCreated": false,
       "validationRegex": null
      }
     }
    }
   }
  },
  "language_info": {
   "name": "sql"
  }
 },
 "nbformat": 4,
 "nbformat_minor": 0
}
