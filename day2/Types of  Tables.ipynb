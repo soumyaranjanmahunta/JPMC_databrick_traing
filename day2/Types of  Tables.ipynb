{
 "cells": [
  {
   "cell_type": "code",
   "execution_count": 0,
   "metadata": {
    "application/vnd.databricks.v1+cell": {
     "cellMetadata": {},
     "inputWidgets": {},
     "nuid": "3066b36d-8562-4e78-b19a-841ad268d4d6",
     "showTitle": false,
     "tableResultSettingsMap": {},
     "title": ""
    }
   },
   "outputs": [],
   "source": [
    "parquet + _delta_logs\n",
    "\n",
    "\n",
    "Managed \n",
    "\n",
    "1.create table tble (id int)\n",
    "\n",
    "2.create table tblname as select\n",
    "\n",
    "3.df=spark.read.csv(\"path\")\n",
    "df.write.saveAsTable(\"tblname\")\n",
    "\n",
    "\n",
    "drop : Table+ (parquet + _delta_logs) all are dropped \n",
    "\n",
    "Unmanaged/ External\n",
    "\n",
    "\n",
    "1.create table tble (id int) location \"s3/jpmc\"\n",
    "\n",
    "2.create table tblname location \"s3/jpmc\" as select\n",
    "\n",
    "3.df=spark.read.csv(\"path\")\n",
    "df.write.option(\"path\",\"s3/jpmc\").saveAsTable(\"tblname\")\n",
    "\n",
    "\n",
    "drop: table is dropped but (parquet + _delta_logs) are untouched\n"
   ]
  },
  {
   "cell_type": "code",
   "execution_count": 0,
   "metadata": {
    "application/vnd.databricks.v1+cell": {
     "cellMetadata": {
      "byteLimit": 2048000,
      "rowLimit": 10000
     },
     "inputWidgets": {},
     "nuid": "04c8f45c-319a-41cc-a729-890f486789fa",
     "showTitle": false,
     "tableResultSettingsMap": {},
     "title": ""
    }
   },
   "outputs": [],
   "source": [
    "drop table dev.naval.emp2"
   ]
  },
  {
   "cell_type": "code",
   "execution_count": 0,
   "metadata": {
    "application/vnd.databricks.v1+cell": {
     "cellMetadata": {
      "byteLimit": 2048000,
      "rowLimit": 10000
     },
     "inputWidgets": {},
     "nuid": "4326f36b-6e45-46e1-b6fe-bea66d9bda81",
     "showTitle": false,
     "tableResultSettingsMap": {},
     "title": ""
    }
   },
   "outputs": [],
   "source": [
    "create table dev.naval.emp3 (id int, name string) location 's3://jpmctraining/detla/emp3'"
   ]
  },
  {
   "cell_type": "code",
   "execution_count": 0,
   "metadata": {
    "application/vnd.databricks.v1+cell": {
     "cellMetadata": {
      "byteLimit": 2048000,
      "rowLimit": 10000
     },
     "inputWidgets": {},
     "nuid": "29507e93-49f4-4708-9745-1e865ee9495c",
     "showTitle": false,
     "tableResultSettingsMap": {},
     "title": ""
    }
   },
   "outputs": [],
   "source": [
    "insert into dev.naval.emp3 values (1,'a');"
   ]
  },
  {
   "cell_type": "code",
   "execution_count": 0,
   "metadata": {
    "application/vnd.databricks.v1+cell": {
     "cellMetadata": {
      "byteLimit": 2048000,
      "rowLimit": 10000
     },
     "inputWidgets": {},
     "nuid": "af8c76ff-4e46-4ed8-9e30-2a42acc9657a",
     "showTitle": false,
     "tableResultSettingsMap": {},
     "title": ""
    }
   },
   "outputs": [],
   "source": [
    "--ctas\n",
    "select * from delta.`s3://jpmctraining/detla/emp2`"
   ]
  }
 ],
 "metadata": {
  "application/vnd.databricks.v1+notebook": {
   "computePreferences": null,
   "dashboards": [],
   "environmentMetadata": {
    "base_environment": "",
    "environment_version": "3"
   },
   "inputWidgetPreferences": null,
   "language": "sql",
   "notebookMetadata": {
    "pythonIndentUnit": 4
   },
   "notebookName": "Types of  Tables",
   "widgets": {}
  },
  "language_info": {
   "name": "sql"
  }
 },
 "nbformat": 4,
 "nbformat_minor": 0
}
